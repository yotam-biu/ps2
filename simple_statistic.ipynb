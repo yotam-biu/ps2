{
  "cells": [
    {
      "cell_type": "markdown",
      "metadata": {
        "id": "view-in-github",
        "colab_type": "text"
      },
      "source": [
        "<a href=\"https://colab.research.google.com/github/yotam-biu/ps2/blob/main/simple_statistic.ipynb\" target=\"_parent\"><img src=\"https://colab.research.google.com/assets/colab-badge.svg\" alt=\"Open In Colab\"/></a>"
      ]
    },
    {
      "cell_type": "markdown",
      "id": "214b5c8a",
      "metadata": {
        "id": "214b5c8a"
      },
      "source": [
        "## PS2: Simple Statistics\n"
      ]
    },
    {
      "metadata": {
        "id": "230d741c4e90ccf3"
      },
      "cell_type": "markdown",
      "source": [
        "### 1. Find the Maximum Number\n"
      ],
      "id": "230d741c4e90ccf3"
    },
    {
      "cell_type": "markdown",
      "id": "909a3cc6",
      "metadata": {
        "id": "909a3cc6"
      },
      "source": [
        "Create a function called `find_max_number` that takes three numbers as input and returns the maximum value. Complete the function by filling in the missing part of the code:"
      ]
    },
    {
      "metadata": {
        "id": "8a9e321287d7d146"
      },
      "cell_type": "code",
      "outputs": [],
      "execution_count": null,
      "source": [
        "def find_max_number(num1, num2, num3):\n",
        "    # Complete this line to find the maximum number and return it"
      ],
      "id": "8a9e321287d7d146"
    },
    {
      "metadata": {
        "id": "fbc6fba491604a71"
      },
      "cell_type": "markdown",
      "source": [
        "Now, test your function by selecting three numbers and checking if it returns the correct maximum value among them:"
      ],
      "id": "fbc6fba491604a71"
    },
    {
      "cell_type": "code",
      "execution_count": null,
      "id": "613f5964",
      "metadata": {
        "id": "613f5964"
      },
      "outputs": [],
      "source": [
        "num1 = 1\n",
        "num2 = 3\n",
        "num3 = -1\n",
        "max_num = find_max_number(num1, num2, num3)\n",
        "print(\"The maximum number is:\", max_num)"
      ]
    },
    {
      "metadata": {
        "id": "7e10352a188f4b9"
      },
      "cell_type": "markdown",
      "source": [
        "### 2. Mean Calculation\n"
      ],
      "id": "7e10352a188f4b9"
    },
    {
      "cell_type": "markdown",
      "id": "d05d2f58",
      "metadata": {
        "id": "d05d2f58"
      },
      "source": [
        "Create a function called `find_mean` that takes three numbers as input and calculates their mean. To calculate the mean, use the following formula:\n",
        "$$\n",
        "  \\bar{x} = \\frac{x_1 + x_2 + \\ldots + x_n}{n}\n",
        "$$\n",
        "In our case, \\( n = 3 \\).\n",
        "\n",
        "Complete the code below:\n"
      ]
    },
    {
      "cell_type": "code",
      "execution_count": null,
      "id": "8cf54191",
      "metadata": {
        "id": "8cf54191"
      },
      "outputs": [],
      "source": [
        "def find_mean(num1, num2, num3):\n",
        "    return # Fill in this line to calculate the mean"
      ]
    },
    {
      "metadata": {
        "id": "16fdd149c0d2e050"
      },
      "cell_type": "markdown",
      "source": [
        "Test your code by selecting three numbers and checking if it returns the correct mean:\n"
      ],
      "id": "16fdd149c0d2e050"
    },
    {
      "metadata": {
        "id": "9c6744c37bfbc249"
      },
      "cell_type": "code",
      "outputs": [],
      "execution_count": null,
      "source": [
        "num1 = 1\n",
        "num2 = 3\n",
        "num3 = 2\n",
        "mean_value = find_mean(num1, num2, num3)\n",
        "print(\"The mean is:\", mean_value)"
      ],
      "id": "9c6744c37bfbc249"
    },
    {
      "metadata": {
        "id": "abd7eaecf0fcce81"
      },
      "cell_type": "markdown",
      "source": [
        "### 3. STD"
      ],
      "id": "abd7eaecf0fcce81"
    },
    {
      "metadata": {
        "id": "b66b9bc7dd7cbb3d"
      },
      "cell_type": "markdown",
      "source": [
        "Create a function called `find_mean_std` that takes three numbers as input and calculates both the mean and the standard deviation. Use the following formulas to compute these values:\n",
        "$$\n",
        "  \\bar{x} = \\frac{x_1 + x_2 + \\ldots + x_n}{n}\n",
        "$$\n",
        "\n",
        "$$\n",
        "  \\sigma = \\sqrt{\\frac{(x_1 - \\bar{x})^2+(x_2 - \\bar{x})^2+\\ldots+(x_n - \\bar{x})^2}{n}}\n",
        "$$\n",
        "\n",
        "Since you already implemented `find_mean` in Part 2, use it here. In the code below, correct the specified line so the function returns both the mean and standard deviation."
      ],
      "id": "b66b9bc7dd7cbb3d"
    },
    {
      "metadata": {
        "id": "a39676d3f2e334f1"
      },
      "cell_type": "code",
      "outputs": [],
      "execution_count": null,
      "source": [
        "def find_mean_std(num1, num2, num3):\n",
        "    mean = find_mean(num1, num2, num3)\n",
        "    variance = (num1 - mean)**2 + (num2 - mean)**2 + (num3 - mean)**2\n",
        "    variance /= # Complete this line to calculate variance\n",
        "    return mean, variance**0.5  # Standard deviation is the square root of variance"
      ],
      "id": "a39676d3f2e334f1"
    },
    {
      "metadata": {
        "id": "e7a6aa4182fec3f0"
      },
      "cell_type": "markdown",
      "source": [
        "Test your function. Note that it should return two values, so we assign the output to two variables (i.e., `mean, std = ...`):"
      ],
      "id": "e7a6aa4182fec3f0"
    },
    {
      "cell_type": "code",
      "execution_count": null,
      "id": "a6a49b8e",
      "metadata": {
        "id": "a6a49b8e"
      },
      "outputs": [],
      "source": [
        "num1 = 1\n",
        "num2 = 3\n",
        "num3 = 2\n",
        "mean, std = find_mean_std(num1, num2, num3)\n",
        "print(\"The mean is\", mean)\n",
        "print(\"The standard deviation is\", std)"
      ]
    },
    {
      "metadata": {
        "id": "eb5d9dee5b1fff4f"
      },
      "cell_type": "markdown",
      "source": [
        "After confirming your code works, copy your functions into the `math_utils.py` file in the repository. Verify that your functions were uploaded to GitHub correctly by checking for a checkmark icon.\n",
        "\n"
      ],
      "id": "eb5d9dee5b1fff4f"
    }
  ],
  "metadata": {
    "kernelspec": {
      "display_name": "Python 3 (ipykernel)",
      "language": "python",
      "name": "python3"
    },
    "language_info": {
      "codemirror_mode": {
        "name": "ipython",
        "version": 3
      },
      "file_extension": ".py",
      "mimetype": "text/x-python",
      "name": "python",
      "nbconvert_exporter": "python",
      "pygments_lexer": "ipython3",
      "version": "3.9.7"
    },
    "colab": {
      "provenance": [],
      "include_colab_link": true
    }
  },
  "nbformat": 4,
  "nbformat_minor": 5
}